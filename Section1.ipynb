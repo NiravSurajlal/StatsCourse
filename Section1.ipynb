{
  "nbformat": 4,
  "nbformat_minor": 0,
  "metadata": {
    "colab": {
      "name": "Section1.ipynb",
      "provenance": [],
      "collapsed_sections": [],
      "authorship_tag": "ABX9TyPR1o5QzHsfd92Hp3Qkhqvh"
    },
    "kernelspec": {
      "name": "python3",
      "display_name": "Python 3"
    },
    "language_info": {
      "name": "python"
    }
  },
  "cells": [
    {
      "cell_type": "markdown",
      "metadata": {
        "id": "USz7sCsRxJB3"
      },
      "source": [
        "# Part 1\n"
      ]
    },
    {
      "cell_type": "code",
      "metadata": {
        "id": "db7y3zdkz8GG"
      },
      "source": [
        "import numpy as np\n",
        "import matplotlib.pyplot as plt"
      ],
      "execution_count": null,
      "outputs": []
    },
    {
      "cell_type": "markdown",
      "metadata": {
        "id": "h7JBoPmcxe4I"
      },
      "source": [
        "## How to Count\n",
        "- Multiplication Rule for symmetric problems\\\n",
        "Given n objects, sample k times or make k choices \n",
        "- With Replacement -> n^k outcomes\n",
        "- Without Replacement -> (n-0)(n-1)...(n-k+1) outcomes for k<=n.  0 Outcomes for k>n.\n"
      ]
    },
    {
      "cell_type": "markdown",
      "metadata": {
        "id": "-WkYgEAAyjGI"
      },
      "source": [
        "### The Birthday Problem\n",
        "Given k people, what are the chances that 2 people share the same birthdate (probability of event A)?\\\n",
        "\n",
        "It is involved to consider it as is. Maybe consider the % of nobody sharing the same birthday then taking its complement, where nobody sharing the same day is event B. Therefore $P(A)^c=P(B)$ and $P(A)=1-P(B)$.\n",
        "\n",
        "Using sampling w/o replacement, can calc $P(B)$. Note, that the total number of possibilies is $365^k$ because each person can have a birthday on anyday in the year, thus 365 for each person."
      ]
    },
    {
      "cell_type": "code",
      "metadata": {
        "colab": {
          "base_uri": "https://localhost:8080/",
          "height": 312
        },
        "id": "AIstPSU-fJL1",
        "outputId": "ab193d4f-d48d-4946-b9df-0decb5aba645"
      },
      "source": [
        "n = 365\n",
        "k = 100\n",
        "prob_B = np.zeros(shape=(k,1))\n",
        "\n",
        "for ii in range(0,k):\n",
        "  # loop for each k val\n",
        "  total_number_of_possibilites = n**ii\n",
        "  # setup for w/o replacement equation\n",
        "  temp = 1\n",
        "  for i in range(0,ii):\n",
        "    # the loop starts from 0 and goes up to k-1, thus fulfilling the formula\n",
        "    temp = temp*(n-i)\n",
        "\n",
        "    # calcs P(A)=1-P(B)\n",
        "  prob_B[ii] = temp/total_number_of_possibilites \n",
        "\n",
        "prob_A = 1- prob_B\n",
        "plt.scatter(np.arange(0,k), prob_A, marker='.')\n",
        "plt.xlabel(\"k\")\n",
        "plt.ylabel(\"Probabiity\")\n",
        "plt.title(\"Birthday Problem for {0<=k<=100, k e Z}\")"
      ],
      "execution_count": null,
      "outputs": [
        {
          "output_type": "execute_result",
          "data": {
            "text/plain": [
              "Text(0.5, 1.0, 'Birthday Problem for {0<=k<=100, k e Z}')"
            ]
          },
          "metadata": {},
          "execution_count": 33
        },
        {
          "output_type": "display_data",
          "data": {
            "image/png": "[encoded data removed]",
            "text/plain": [
              "<Figure size 432x288 with 1 Axes>"
            ]
          },
          "metadata": {
            "needs_background": "light"
          }
        }
      ]
    },
    {
      "cell_type": "code",
      "metadata": {
        "id": "Tez1pD4gVzSr"
      },
      "source": [
        ""
      ],
      "execution_count": null,
      "outputs": []
    }
  ]
}